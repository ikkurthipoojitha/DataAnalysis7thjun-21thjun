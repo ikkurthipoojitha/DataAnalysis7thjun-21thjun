{
 "cells": [
  {
   "cell_type": "markdown",
   "metadata": {},
   "source": [
    "Markdown format:\n",
    "---------------------------\n",
    "# Heading1\n",
    "## Heading2\n",
    "### Heading3\n",
    "#### Heading 4\n",
    "##### Heading5\n",
    "###### Heading6\n",
    "\n",
    "\n",
    "- line1\n",
    "+ line2\n",
    "* line3\n",
    "<p> This is paragraph line1. <br>\n",
    "    This is a paragraph line2 </p>\n",
    "    \n",
    "- This is a **bold** text line1\n",
    "- This is a __bold__ text line2\n",
    "\n",
    "- This is a *Italic* text line1\n",
    "- This is a _Italic_ text line2\n",
    "\n",
    "- Combination of ___bold and italic___\n",
    "- Combination of ***bold and italic***"
   ]
  },
  {
   "cell_type": "markdown",
   "metadata": {},
   "source": [
    "### Ordered list\n",
    "1. First \n",
    "2. Second\n",
    "3. Third\n",
    "\n",
    "### Another ordered list\n",
    ">1. List1\n",
    ">2. List2\n",
    ">3. list3"
   ]
  },
  {
   "cell_type": "markdown",
   "metadata": {},
   "source": [
    "1. item1\n",
    "    - sublist1\n",
    "    * sublist2\n",
    "1. item2\n",
    "1. item3\n",
    "    1. sublist\n",
    "    2. sublist2\n",
    "10. item4"
   ]
  },
  {
   "cell_type": "markdown",
   "metadata": {},
   "source": [
    "#### Unordered list\n",
    "- unordered list1\n",
    "+ unordered list2\n",
    "    - sublist1\n",
    "    + sublist2\n",
    "    * sublist3\n",
    "\n",
    "* unordered list3\n",
    "- for code block `code`\n",
    "- Search engine is [google chrome](https://www.google.com/)<br>\n",
    "<https://www.google.com/>\n",
    "<emailid>\n",
    "<img src = \"image.png\"width = 300px height = 200px>"
   ]
  },
  {
   "cell_type": "code",
   "execution_count": 1,
   "metadata": {
    "collapsed": true
   },
   "outputs": [
    {
     "data": {
      "text/plain": [
       "['False',\n",
       " 'None',\n",
       " 'True',\n",
       " 'and',\n",
       " 'as',\n",
       " 'assert',\n",
       " 'async',\n",
       " 'await',\n",
       " 'break',\n",
       " 'class',\n",
       " 'continue',\n",
       " 'def',\n",
       " 'del',\n",
       " 'elif',\n",
       " 'else',\n",
       " 'except',\n",
       " 'finally',\n",
       " 'for',\n",
       " 'from',\n",
       " 'global',\n",
       " 'if',\n",
       " 'import',\n",
       " 'in',\n",
       " 'is',\n",
       " 'lambda',\n",
       " 'nonlocal',\n",
       " 'not',\n",
       " 'or',\n",
       " 'pass',\n",
       " 'raise',\n",
       " 'return',\n",
       " 'try',\n",
       " 'while',\n",
       " 'with',\n",
       " 'yield']"
      ]
     },
     "execution_count": 1,
     "metadata": {},
     "output_type": "execute_result"
    }
   ],
   "source": [
    "import keyword # keyword module is used to check keywords\n",
    "keyword.kwlist"
   ]
  },
  {
   "cell_type": "code",
   "execution_count": 6,
   "metadata": {},
   "outputs": [
    {
     "data": {
      "text/plain": [
       "False"
      ]
     },
     "execution_count": 6,
     "metadata": {},
     "output_type": "execute_result"
    }
   ],
   "source": [
    "keyword.iskeyword(\"abc\")"
   ]
  },
  {
   "cell_type": "code",
   "execution_count": 7,
   "metadata": {},
   "outputs": [
    {
     "data": {
      "text/plain": [
       "['__all__',\n",
       " '__builtins__',\n",
       " '__cached__',\n",
       " '__doc__',\n",
       " '__file__',\n",
       " '__loader__',\n",
       " '__name__',\n",
       " '__package__',\n",
       " '__spec__',\n",
       " 'iskeyword',\n",
       " 'kwlist',\n",
       " 'main']"
      ]
     },
     "execution_count": 7,
     "metadata": {},
     "output_type": "execute_result"
    }
   ],
   "source": [
    "dir(keyword)"
   ]
  },
  {
   "cell_type": "markdown",
   "metadata": {},
   "source": [
    "Comments\n",
    "----------------\n",
    "- Single line comments\n",
    "    - # \n",
    "- Multi line comments\n",
    "    - \"\"\"\"\"\"\n",
    "    - ''''''"
   ]
  },
  {
   "cell_type": "code",
   "execution_count": 17,
   "metadata": {},
   "outputs": [
    {
     "data": {
      "text/plain": [
       "'this is a multi\\nline\\ncomment'"
      ]
     },
     "execution_count": 17,
     "metadata": {},
     "output_type": "execute_result"
    }
   ],
   "source": [
    "'''this is a multi\n",
    "line\n",
    "comment'''"
   ]
  },
  {
   "cell_type": "code",
   "execution_count": null,
   "metadata": {},
   "outputs": [],
   "source": []
  }
 ],
 "metadata": {
  "kernelspec": {
   "display_name": "Python 3",
   "language": "python",
   "name": "python3"
  },
  "language_info": {
   "codemirror_mode": {
    "name": "ipython",
    "version": 3
   },
   "file_extension": ".py",
   "mimetype": "text/x-python",
   "name": "python",
   "nbconvert_exporter": "python",
   "pygments_lexer": "ipython3",
   "version": "3.7.1"
  }
 },
 "nbformat": 4,
 "nbformat_minor": 2
}
